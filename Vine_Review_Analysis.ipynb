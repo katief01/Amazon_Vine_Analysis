{
  "nbformat": 4,
  "nbformat_minor": 0,
  "metadata": {
    "colab": {
      "name": "Vine_Review_Analysis.ipynb",
      "provenance": [],
      "collapsed_sections": []
    },
    "kernelspec": {
      "name": "python3",
      "display_name": "Python 3"
    },
    "language_info": {
      "name": "python"
    }
  },
  "cells": [
    {
      "cell_type": "code",
      "metadata": {
        "colab": {
          "base_uri": "https://localhost:8080/"
        },
        "id": "2XaIhXO4VKLD",
        "outputId": "1f168f5b-362c-4a0b-f8c4-35aade0e034a"
      },
      "source": [
        "import os\n",
        "# Find the latest version of spark 2.0  from http://www-us.apache.org/dist/spark/ and enter as the spark version\n",
        "# For example:\n",
        "# spark_version = 'spark-3.0.0'\n",
        "spark_version = 'spark-3.1.1'\n",
        "os.environ['SPARK_VERSION']=spark_version\n",
        "\n",
        "# Install Spark and Java\n",
        "!apt-get update\n",
        "!apt-get install openjdk-11-jdk-headless -qq > /dev/null\n",
        "!wget -q http://www-us.apache.org/dist/spark/$SPARK_VERSION/$SPARK_VERSION-bin-hadoop2.7.tgz\n",
        "!tar xf $SPARK_VERSION-bin-hadoop2.7.tgz\n",
        "!pip install -q findspark\n",
        "\n",
        "# Set Environment Variables\n",
        "import os\n",
        "os.environ[\"JAVA_HOME\"] = \"/usr/lib/jvm/java-11-openjdk-amd64\"\n",
        "os.environ[\"SPARK_HOME\"] = f\"/content/{spark_version}-bin-hadoop2.7\"\n",
        "\n",
        "# Start a SparkSession\n",
        "import findspark\n",
        "findspark.init()"
      ],
      "execution_count": 2,
      "outputs": [
        {
          "output_type": "stream",
          "text": [
            "\r0% [Working]\r            \rGet:1 https://cloud.r-project.org/bin/linux/ubuntu bionic-cran40/ InRelease [3,626 B]\n",
            "Ign:2 https://developer.download.nvidia.com/compute/cuda/repos/ubuntu1804/x86_64  InRelease\n",
            "Ign:3 https://developer.download.nvidia.com/compute/machine-learning/repos/ubuntu1804/x86_64  InRelease\n",
            "Hit:4 https://developer.download.nvidia.com/compute/cuda/repos/ubuntu1804/x86_64  Release\n",
            "Hit:5 https://developer.download.nvidia.com/compute/machine-learning/repos/ubuntu1804/x86_64  Release\n",
            "Get:6 http://ppa.launchpad.net/c2d4u.team/c2d4u4.0+/ubuntu bionic InRelease [15.9 kB]\n",
            "Get:7 http://security.ubuntu.com/ubuntu bionic-security InRelease [88.7 kB]\n",
            "Hit:8 http://archive.ubuntu.com/ubuntu bionic InRelease\n",
            "Get:9 http://archive.ubuntu.com/ubuntu bionic-updates InRelease [88.7 kB]\n",
            "Get:10 https://cloud.r-project.org/bin/linux/ubuntu bionic-cran40/ Packages [52.7 kB]\n",
            "Hit:11 http://ppa.launchpad.net/cran/libgit2/ubuntu bionic InRelease\n",
            "Get:13 http://ppa.launchpad.net/deadsnakes/ppa/ubuntu bionic InRelease [15.9 kB]\n",
            "Get:14 http://archive.ubuntu.com/ubuntu bionic-backports InRelease [74.6 kB]\n",
            "Hit:16 http://ppa.launchpad.net/graphics-drivers/ppa/ubuntu bionic InRelease\n",
            "Get:17 http://ppa.launchpad.net/c2d4u.team/c2d4u4.0+/ubuntu bionic/main Sources [1,749 kB]\n",
            "Get:18 http://security.ubuntu.com/ubuntu bionic-security/universe amd64 Packages [1,402 kB]\n",
            "Get:19 http://archive.ubuntu.com/ubuntu bionic-updates/universe amd64 Packages [2,170 kB]\n",
            "Get:20 http://security.ubuntu.com/ubuntu bionic-security/main amd64 Packages [2,045 kB]\n",
            "Get:21 http://ppa.launchpad.net/c2d4u.team/c2d4u4.0+/ubuntu bionic/main amd64 Packages [895 kB]\n",
            "Get:22 http://archive.ubuntu.com/ubuntu bionic-updates/main amd64 Packages [2,475 kB]\n",
            "Get:23 http://ppa.launchpad.net/deadsnakes/ppa/ubuntu bionic/main amd64 Packages [39.5 kB]\n",
            "Fetched 11.1 MB in 3s (3,339 kB/s)\n",
            "Reading package lists... Done\n"
          ],
          "name": "stdout"
        }
      ]
    },
    {
      "cell_type": "code",
      "metadata": {
        "id": "Skbs_lF0Zj4D"
      },
      "source": [
        "# Import SparkSession\n",
        "from pyspark.sql import SparkSession\n",
        "spark = SparkSession.builder.appName(\"Vine-Analysis2\").config(\"spark.driver.extraClassPath\",\"/content/postgresql-42.2.16.jar\").getOrCreate()"
      ],
      "execution_count": 3,
      "outputs": []
    },
    {
      "cell_type": "code",
      "metadata": {
        "colab": {
          "base_uri": "https://localhost:8080/"
        },
        "id": "dtBzG5ivZpwA",
        "outputId": "17696135-3d27-475e-8417-463ae1e6bde2"
      },
      "source": [
        "# Load Amazon Data into Spark DataFrame\n",
        "from pyspark import SparkFiles\n",
        "url = \"https://s3.amazonaws.com/amazon-reviews-pds/tsv/amazon_reviews_us_Sports_v1_00.tsv.gz\"\n",
        "spark.sparkContext.addFile(url)\n",
        "sports_df = spark.read.option(\"encoding\", \"UTF-8\").csv(SparkFiles.get(\"\"), sep=\"\\t\", header=True, inferSchema=True)\n",
        "sports_df.show()"
      ],
      "execution_count": 4,
      "outputs": [
        {
          "output_type": "stream",
          "text": [
            "+-----------+-----------+--------------+----------+--------------+--------------------+----------------+-----------+-------------+-----------+----+-----------------+--------------------+--------------------+-----------+\n",
            "|marketplace|customer_id|     review_id|product_id|product_parent|       product_title|product_category|star_rating|helpful_votes|total_votes|vine|verified_purchase|     review_headline|         review_body|review_date|\n",
            "+-----------+-----------+--------------+----------+--------------+--------------------+----------------+-----------+-------------+-----------+----+-----------------+--------------------+--------------------+-----------+\n",
            "|         US|   48945260|R1WBPB8MDCCN8F|B012P7UPSM|     409940130|Chicago Blackhawk...|          Sports|          5|            0|          0|   N|                N|   LOVE IT. 6 stars!|Bought this last ...| 2015-08-31|\n",
            "|         US|    5782091|R32M0YEWV77XG8|B001GQ3VHG|     657746679|Copag Poker Size ...|          Sports|          5|            1|          1|   N|                Y|       Shipped fast.|These are the bes...| 2015-08-31|\n",
            "|         US|   45813853| RR8V7WR27NXJ5|B008VS8M58|     962442336|Baoer 223 5.56x45...|          Sports|          1|            0|          0|   N|                Y|Good idea if it w...|It looks good, th...| 2015-08-31|\n",
            "|         US|    1593730|R1MHO5V9Z932AY|B005F06F4U|      74305227|All Terrain Tackl...|          Sports|          5|            0|          0|   N|                Y|          Five Stars|           Great jig| 2015-08-31|\n",
            "|         US|   29605511|R16PD71086BD2V|B010T4IE2C|     787185588|Swim Cap - 3 Pack...|          Sports|          5|            0|          1|   N|                N|Great quality sil...|I love swimming i...| 2015-08-31|\n",
            "|         US|   11112959|R1Z8IFGWTRWXT6|B004RKJGLS|      94127483|adidas Men's Spor...|          Sports|          3|            0|          0|   N|                Y|Love everything a...|Love everything a...| 2015-08-31|\n",
            "|         US|     108031|R3AUMSHAW73HWN|B005V3DCBU|     526977496|Nike Men's Perfor...|          Sports|          4|            2|          3|   N|                N|          Four Stars|not the best sock...| 2015-08-31|\n",
            "|         US|   13981540|R2KWDWFOHGX6FL|B00MHT9WN8|      26521265|Green Bay Packers...|          Sports|          5|            0|          0|   N|                Y|          Five Stars|             Love it| 2015-08-31|\n",
            "|         US|   37993909|R3H9543FWBWFBU|B001CSIRQ8|     652431165|Isokinetics Inc. ...|          Sports|          5|            1|          1|   N|                Y|can't wait to use it|Unfortunately I h...| 2015-08-31|\n",
            "|         US|   26040213| RUANXOQ9W3OU5|B001KZ3NOO|     635861713|Aottop Quality El...|          Sports|          5|            0|          0|   N|                Y|great product, ac...|fast shipping , g...| 2015-08-31|\n",
            "|         US|   34657602|R31673RTGEZSW7|B00005RCQS|      72099763|Everlast 2'x6' Fo...|          Sports|          5|            2|          2|   N|                Y|this mat is a pre...|If you have a ter...| 2015-08-31|\n",
            "|         US|   14346192|R22OQLFSH42RCM|B00FA7RWVI|     757354022|OGIO Men's Shredd...|          Sports|          5|            1|          1|   N|                Y|  Versatile Golf Bag|Love this golf ba...| 2015-08-31|\n",
            "|         US|   38782687|R12LEL4F3TSZUJ|B000MMH2HU|     272402599|Blue Sea Systems ...|          Sports|          5|            2|          2|   N|                Y|Great AC Main Bre...|Perfect mounting ...| 2015-08-31|\n",
            "|         US|   27138575|R2L9XWD03072NI|B00WJOATDS|     375070208|Zengi AR15 45 Deg...|          Sports|          5|            1|          2|   N|                Y|   Nice, some quirks|For the cost you ...| 2015-08-31|\n",
            "|         US|   11838771|R2K0U91HIACANO|B00BOM2JNY|     639666785|Black Mountain Pr...|          Sports|          5|            0|          0|   N|                N|55 cm - Good qual...|The ball is very ...| 2015-08-31|\n",
            "|         US|     535800|R29SP6MBT7MXG7|B00OD5GAFM|      38715442|Trijicon VCOG 1-6...|          Sports|          4|            3|          3|   N|                Y|    Very nice scope.|Very nice scope.....| 2015-08-31|\n",
            "|         US|   23156579|R31XREAAMATEPY|B00CAHDC1K|      57088652|Naruto Headband f...|          Sports|          5|            0|          0|   N|                Y|was for my son an...|           This item| 2015-08-31|\n",
            "|         US|   48107879|R2116AVB87SO38|B004NLHXLG|     114125984|Under Armour Men'...|          Sports|          5|            0|          0|   N|                Y|          Five Stars|greatest socks i ...| 2015-08-31|\n",
            "|         US|   27260960|R3RDVBB6O0X3HW|B00L7OANWI|     883962979|Yes4All Deep Tiss...|          Sports|          5|            0|          0|   N|                Y|          Five Stars|Perfect for home ...| 2015-08-31|\n",
            "|         US|   39537314|R3LW5T149LKKQM|B0085PPSIQ|     691479969|Lansky PS-MED01 B...|          Sports|          4|            0|          0|   N|                Y|A bit heavy for p...|Very good product...| 2015-08-31|\n",
            "+-----------+-----------+--------------+----------+--------------+--------------------+----------------+-----------+-------------+-----------+----+-----------------+--------------------+--------------------+-----------+\n",
            "only showing top 20 rows\n",
            "\n"
          ],
          "name": "stdout"
        }
      ]
    },
    {
      "cell_type": "code",
      "metadata": {
        "colab": {
          "base_uri": "https://localhost:8080/"
        },
        "id": "6p9WKm99br-p",
        "outputId": "af2a2fb0-a90b-4227-886e-fbf67dbc3663"
      },
      "source": [
        "# Create the vine_table DataFrame\n",
        "vine_df = sports_df.select([\"review_id\", \"star_rating\", \"helpful_votes\", \"vine\", \"verified_purchase\", \"total_votes\"])\n",
        "vine_df.show()"
      ],
      "execution_count": 5,
      "outputs": [
        {
          "output_type": "stream",
          "text": [
            "+--------------+-----------+-------------+----+-----------------+-----------+\n",
            "|     review_id|star_rating|helpful_votes|vine|verified_purchase|total_votes|\n",
            "+--------------+-----------+-------------+----+-----------------+-----------+\n",
            "|R1WBPB8MDCCN8F|          5|            0|   N|                N|          0|\n",
            "|R32M0YEWV77XG8|          5|            1|   N|                Y|          1|\n",
            "| RR8V7WR27NXJ5|          1|            0|   N|                Y|          0|\n",
            "|R1MHO5V9Z932AY|          5|            0|   N|                Y|          0|\n",
            "|R16PD71086BD2V|          5|            0|   N|                N|          1|\n",
            "|R1Z8IFGWTRWXT6|          3|            0|   N|                Y|          0|\n",
            "|R3AUMSHAW73HWN|          4|            2|   N|                N|          3|\n",
            "|R2KWDWFOHGX6FL|          5|            0|   N|                Y|          0|\n",
            "|R3H9543FWBWFBU|          5|            1|   N|                Y|          1|\n",
            "| RUANXOQ9W3OU5|          5|            0|   N|                Y|          0|\n",
            "|R31673RTGEZSW7|          5|            2|   N|                Y|          2|\n",
            "|R22OQLFSH42RCM|          5|            1|   N|                Y|          1|\n",
            "|R12LEL4F3TSZUJ|          5|            2|   N|                Y|          2|\n",
            "|R2L9XWD03072NI|          5|            1|   N|                Y|          2|\n",
            "|R2K0U91HIACANO|          5|            0|   N|                N|          0|\n",
            "|R29SP6MBT7MXG7|          4|            3|   N|                Y|          3|\n",
            "|R31XREAAMATEPY|          5|            0|   N|                Y|          0|\n",
            "|R2116AVB87SO38|          5|            0|   N|                Y|          0|\n",
            "|R3RDVBB6O0X3HW|          5|            0|   N|                Y|          0|\n",
            "|R3LW5T149LKKQM|          4|            0|   N|                Y|          0|\n",
            "+--------------+-----------+-------------+----+-----------------+-----------+\n",
            "only showing top 20 rows\n",
            "\n"
          ],
          "name": "stdout"
        }
      ]
    },
    {
      "cell_type": "code",
      "metadata": {
        "id": "9qs0dUA-b1_C"
      },
      "source": [
        "# Filter the data for total_votes > 20\n",
        "vote_count = vine_df.filter(vine_df[\"total_votes\"] >= 20)"
      ],
      "execution_count": 6,
      "outputs": []
    },
    {
      "cell_type": "code",
      "metadata": {
        "colab": {
          "base_uri": "https://localhost:8080/"
        },
        "id": "5_aap4tCb73v",
        "outputId": "48327513-9305-44da-de60-f124fa81fdd0"
      },
      "source": [
        "# Create a new DataFrame to retrieve all rows where # of helpful_votes divided by total_votes is equal to or greater than 50%.\n",
        "new_vote_table = vote_count.filter(vote_count[\"helpful_votes\"]/vote_count[\"total_votes\"]>=0.5)\n",
        "new_vote_table.show()"
      ],
      "execution_count": 7,
      "outputs": [
        {
          "output_type": "stream",
          "text": [
            "+--------------+-----------+-------------+----+-----------------+-----------+\n",
            "|     review_id|star_rating|helpful_votes|vine|verified_purchase|total_votes|\n",
            "+--------------+-----------+-------------+----+-----------------+-----------+\n",
            "|R1B4753QMTD8ON|          5|           32|   N|                N|         32|\n",
            "|R28BVHOEL6GCHZ|          5|           21|   N|                Y|         21|\n",
            "|R27IB4BRKO71I0|          2|           16|   N|                Y|         20|\n",
            "| RJ86OW12Y4NRL|          5|          124|   N|                Y|        128|\n",
            "|R3KRABOWCH6ZE4|          1|           48|   N|                Y|         65|\n",
            "|R1OAKARA30DIWX|          4|           83|   N|                Y|         89|\n",
            "|R36LSV4WQ4VB1K|          5|           17|   N|                N|         22|\n",
            "|R18BTOE5UGN7UA|          5|           26|   N|                Y|         28|\n",
            "|R1DXLGDSK2WMLD|          4|           22|   N|                N|         22|\n",
            "| RZG2OHQ12YYZI|          5|           30|   N|                Y|         31|\n",
            "|R1ZPBQCT4DYE4Z|          1|           45|   N|                Y|         51|\n",
            "|R16KLPJUNC9GS7|          5|           20|   N|                Y|         21|\n",
            "|R3Q0414UJO4BDO|          1|           23|   N|                Y|         28|\n",
            "| RDHDT1Z4R8IOF|          1|           18|   N|                Y|         20|\n",
            "|R10BO7KWZNBGL1|          4|           23|   N|                Y|         24|\n",
            "|R1H6DQ1UXL6K8U|          5|           86|   N|                N|         97|\n",
            "|R32OMS1LSDRCOB|          4|           27|   Y|                N|         31|\n",
            "|R1ABJ5P5XAZ9AW|          5|          174|   N|                N|        187|\n",
            "|R2RRFZ2YFSJ2OF|          5|           27|   N|                Y|         27|\n",
            "| RJ0T139KDORXP|          5|           23|   N|                Y|         24|\n",
            "+--------------+-----------+-------------+----+-----------------+-----------+\n",
            "only showing top 20 rows\n",
            "\n"
          ],
          "name": "stdout"
        }
      ]
    },
    {
      "cell_type": "code",
      "metadata": {
        "colab": {
          "base_uri": "https://localhost:8080/"
        },
        "id": "Mk7nE0-Edfyw",
        "outputId": "bd9053dc-4cc1-42c1-abc3-c82413cead34"
      },
      "source": [
        "# Filter the table created in Step 2, and create a new table that retrieves all the rows where a review was written as part of the Vine program (paid), vine == 'Y'\n",
        "vine_votes = new_vote_table.filter(new_vote_table[\"vine\"] == \"Y\").count()"
      ],
      "execution_count": 15,
      "outputs": [
        {
          "output_type": "execute_result",
          "data": {
            "text/plain": [
              "334"
            ]
          },
          "metadata": {
            "tags": []
          },
          "execution_count": 15
        }
      ]
    },
    {
      "cell_type": "code",
      "metadata": {
        "colab": {
          "base_uri": "https://localhost:8080/"
        },
        "id": "bg61CFMYfgdd",
        "outputId": "0ab70566-ac78-42fd-c165-c2aae592f7ee"
      },
      "source": [
        "# Create a new table that retrieves all the rows where a review was written as part of the Vine program (paid), vine == 'Y'\n",
        "non_vine_votes = new_vote_table.filter(new_vote_table[\"vine\"] == \"N\").count()"
      ],
      "execution_count": 9,
      "outputs": [
        {
          "output_type": "execute_result",
          "data": {
            "text/plain": [
              "61614"
            ]
          },
          "metadata": {
            "tags": []
          },
          "execution_count": 9
        }
      ]
    },
    {
      "cell_type": "code",
      "metadata": {
        "colab": {
          "base_uri": "https://localhost:8080/"
        },
        "id": "i_DMGE0CfzPD",
        "outputId": "02941b72-888d-4d9e-8222-7de828aa19b2"
      },
      "source": [
        "# Filter table for five star reviews\n",
        "five_star = new_vote_table.filter(new_vote_table[\"star_rating\"]== 5)\n",
        "five_star.show()"
      ],
      "execution_count": 10,
      "outputs": [
        {
          "output_type": "stream",
          "text": [
            "+--------------+-----------+-------------+----+-----------------+-----------+\n",
            "|     review_id|star_rating|helpful_votes|vine|verified_purchase|total_votes|\n",
            "+--------------+-----------+-------------+----+-----------------+-----------+\n",
            "|R1B4753QMTD8ON|          5|           32|   N|                N|         32|\n",
            "|R28BVHOEL6GCHZ|          5|           21|   N|                Y|         21|\n",
            "| RJ86OW12Y4NRL|          5|          124|   N|                Y|        128|\n",
            "|R36LSV4WQ4VB1K|          5|           17|   N|                N|         22|\n",
            "|R18BTOE5UGN7UA|          5|           26|   N|                Y|         28|\n",
            "| RZG2OHQ12YYZI|          5|           30|   N|                Y|         31|\n",
            "|R16KLPJUNC9GS7|          5|           20|   N|                Y|         21|\n",
            "|R1H6DQ1UXL6K8U|          5|           86|   N|                N|         97|\n",
            "|R1ABJ5P5XAZ9AW|          5|          174|   N|                N|        187|\n",
            "|R2RRFZ2YFSJ2OF|          5|           27|   N|                Y|         27|\n",
            "| RJ0T139KDORXP|          5|           23|   N|                Y|         24|\n",
            "|R30MVK7HP2DW91|          5|           84|   N|                Y|        124|\n",
            "|  RUCON6HXM398|          5|          390|   N|                N|        403|\n",
            "| R4XRDHX028RAG|          5|           99|   N|                N|        128|\n",
            "|R37WSELYLYRBIY|          5|           60|   N|                Y|         64|\n",
            "| R3PQJG19LMKIY|          5|           19|   N|                N|         23|\n",
            "|R2T8ORXQ0I97QT|          5|           21|   N|                Y|         21|\n",
            "|R3FZ39FVWGUSG8|          5|           24|   N|                Y|         27|\n",
            "|R2YB7WAQJETXQN|          5|           46|   N|                Y|         50|\n",
            "|R2SYXXZJNQNQOR|          5|           30|   N|                Y|         31|\n",
            "+--------------+-----------+-------------+----+-----------------+-----------+\n",
            "only showing top 20 rows\n",
            "\n"
          ],
          "name": "stdout"
        }
      ]
    },
    {
      "cell_type": "code",
      "metadata": {
        "colab": {
          "base_uri": "https://localhost:8080/"
        },
        "id": "tPRMj8Byfzja",
        "outputId": "7c2ccbeb-77bd-42f4-9a27-366eb9ffe532"
      },
      "source": [
        "# Determine the total number of reviews\n",
        "new_vote_table.count()"
      ],
      "execution_count": 12,
      "outputs": [
        {
          "output_type": "execute_result",
          "data": {
            "text/plain": [
              "61948"
            ]
          },
          "metadata": {
            "tags": []
          },
          "execution_count": 12
        }
      ]
    },
    {
      "cell_type": "code",
      "metadata": {
        "colab": {
          "base_uri": "https://localhost:8080/"
        },
        "id": "zbXuspu3lcla",
        "outputId": "6bdcdc02-cf84-43ef-a357-41150de49c7a"
      },
      "source": [
        "# Determine the total number of 5-star reviews\n",
        "five_star.count()"
      ],
      "execution_count": 18,
      "outputs": [
        {
          "output_type": "execute_result",
          "data": {
            "text/plain": [
              "32804"
            ]
          },
          "metadata": {
            "tags": []
          },
          "execution_count": 18
        }
      ]
    },
    {
      "cell_type": "code",
      "metadata": {
        "colab": {
          "base_uri": "https://localhost:8080/"
        },
        "id": "hiM9uH3xfzsp",
        "outputId": "dd8b96f5-63ef-467d-8a1a-5b58aaba1418"
      },
      "source": [
        "# Percentage of five star reviews\n",
        "five_star.count() / new_vote_table.count()"
      ],
      "execution_count": 13,
      "outputs": [
        {
          "output_type": "execute_result",
          "data": {
            "text/plain": [
              "0.5295409052753922"
            ]
          },
          "metadata": {
            "tags": []
          },
          "execution_count": 13
        }
      ]
    },
    {
      "cell_type": "code",
      "metadata": {
        "colab": {
          "base_uri": "https://localhost:8080/"
        },
        "id": "Itt_ol2XZqBP",
        "outputId": "16866d46-6203-489c-d3fb-95c239bc37b8"
      },
      "source": [
        "# Determine number of 5-star reviews for the Vine members\n",
        "five_star.filter(five_star[\"verified_purchase\"] == \"Y\").count()"
      ],
      "execution_count": 16,
      "outputs": [
        {
          "output_type": "execute_result",
          "data": {
            "text/plain": [
              "22775"
            ]
          },
          "metadata": {
            "tags": []
          },
          "execution_count": 16
        }
      ]
    },
    {
      "cell_type": "code",
      "metadata": {
        "colab": {
          "base_uri": "https://localhost:8080/"
        },
        "id": "xfR-8T8IZqMX",
        "outputId": "29b85114-9267-4be1-e57f-165306ec81f4"
      },
      "source": [
        "# Determine number of 5-star reviews for the non-Vine members\n",
        "five_star.filter(five_star[\"verified_purchase\"] == \"N\").count()"
      ],
      "execution_count": 17,
      "outputs": [
        {
          "output_type": "execute_result",
          "data": {
            "text/plain": [
              "10029"
            ]
          },
          "metadata": {
            "tags": []
          },
          "execution_count": 17
        }
      ]
    },
    {
      "cell_type": "code",
      "metadata": {
        "colab": {
          "base_uri": "https://localhost:8080/"
        },
        "id": "G0ZkwFp5fz0j",
        "outputId": "f2c69f63-9355-45a4-8f7d-3cdd3ebfac7c"
      },
      "source": [
        "# Determine the percentage of 5-star reviews for the paid reviews.\n",
        "five_star.filter(five_star[\"verified_purchase\"] == \"Y\").count()/new_vote_table.filter(new_vote_table[\"verified_purchase\"]== \"Y\").count()"
      ],
      "execution_count": 14,
      "outputs": [
        {
          "output_type": "execute_result",
          "data": {
            "text/plain": [
              "0.5361346516007532"
            ]
          },
          "metadata": {
            "tags": []
          },
          "execution_count": 14
        }
      ]
    },
    {
      "cell_type": "code",
      "metadata": {
        "id": "-HnJe7Ibfz9X",
        "colab": {
          "base_uri": "https://localhost:8080/"
        },
        "outputId": "aad20228-db45-488f-e96b-31c68bbe6d2d"
      },
      "source": [
        "# Determine the percentage of 5-star reviews for un-paid reviews.\n",
        "five_star.filter(five_star[\"verified_purchase\"] == \"N\").count()/new_vote_table.filter(new_vote_table[\"verified_purchase\"]== \"N\").count()"
      ],
      "execution_count": 19,
      "outputs": [
        {
          "output_type": "execute_result",
          "data": {
            "text/plain": [
              "0.5151530717074173"
            ]
          },
          "metadata": {
            "tags": []
          },
          "execution_count": 19
        }
      ]
    }
  ]
}